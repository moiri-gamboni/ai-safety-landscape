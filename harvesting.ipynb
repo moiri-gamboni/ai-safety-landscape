{
 "cells": [
  {
   "cell_type": "markdown",
   "metadata": {},
   "source": [
    "# AI Safety Papers Visualization - Phase 1\n",
    "\n",
    "This notebook implements Phase 1 of the AI Safety Papers visualization project, focusing on:\n",
    "1. Metadata Collection using arXiv OAI-PMH API\n",
    "2. Abstract Embedding Generation using ModernBERT-large\n",
    "3. Initial Clustering using UMAP and HDBSCAN"
   ]
  },
  {
   "cell_type": "code",
   "execution_count": null,
   "metadata": {},
   "outputs": [],
   "source": [
    "# Check if we're running in Colab\n",
    "try:\n",
    "    import google.colab\n",
    "    IN_COLAB = True\n",
    "except ImportError:\n",
    "    IN_COLAB = False\n",
    "\n",
    "if IN_COLAB:\n",
    "    # Clone the repository if we don't have the files\n",
    "    import os\n",
    "    if not os.path.exists('requirements.txt'):\n",
    "        !git clone https://github.com/moiri-gamboni/ai-safety-landscape.git\n",
    "        %cd ai-safety-landscape\n",
    "    \n",
    "    # Install requirements\n",
    "    !pip install -r requirements.txt"
   ]
  },
  {
   "cell_type": "markdown",
   "metadata": {},
   "source": [
    "## Configuration Parameters"
   ]
  },
  {
   "cell_type": "code",
   "execution_count": null,
   "metadata": {},
   "outputs": [],
   "source": [
    "# @title Data Collection Parameters\n",
    "# Set to 0 to fetch all CS papers (warning: this will take a long time)\n",
    "# Set to a positive number to fetch only that many papers\n",
    "num_papers = 100 # @param {type:\"slider\", min:0, max:10000, step:100}"
   ]
  }
 ],
 "metadata": {
  "jupytext": {
   "formats": "ipynb,py:percent"
  },
  "kernelspec": {
   "display_name": "Python 3",
   "language": "python",
   "name": "python3"
  }
 },
 "nbformat": 4,
 "nbformat_minor": 4
}
