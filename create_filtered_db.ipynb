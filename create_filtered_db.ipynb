{
 "cells": [
  {
   "cell_type": "markdown",
   "id": "0",
   "metadata": {},
   "source": [
    "# Create Filtered AI Safety Database\n",
    "Creates a focused database containing:\n",
    "1. Only CS.AI papers\n",
    "2. Data from the best clustering trial\n",
    "3. All related metadata and clustering artifacts"
   ]
  },
  {
   "cell_type": "markdown",
   "id": "1",
   "metadata": {},
   "source": [
    "## 1. Setup"
   ]
  },
  {
   "cell_type": "code",
   "execution_count": null,
   "id": "2",
   "metadata": {},
   "outputs": [],
   "source": [
    "# Mount Google Drive\n",
    "from google.colab import drive # pyright: ignore\n",
    "drive.mount('/content/drive')\n",
    "\n",
    "# Install required packages\n",
    "!sudo apt-get -qq update && sudo apt-get -qq install postgresql postgresql-contrib # pyright: ignore\n",
    "!sudo service postgresql start # pyright: ignore\n",
    "%pip install psycopg2-binary optuna # pyright: ignore"
   ]
  },
  {
   "cell_type": "markdown",
   "id": "3",
   "metadata": {},
   "source": [
    "## 2. Identify Best Trial"
   ]
  },
  {
   "cell_type": "code",
   "execution_count": null,
   "id": "4",
   "metadata": {},
   "outputs": [],
   "source": [
    "import psycopg2\n",
    "import optuna\n",
    "import json\n",
    "import numpy as np\n",
    "\n",
    "def get_optuna_storage():\n",
    "    return \"postgresql://postgres@/postgres\"\n",
    "\n",
    "# Add database loading from Drive backup\n",
    "def load_database():\n",
    "    \"\"\"Load PostgreSQL backup using psql\"\"\"\n",
    "    backup_path = \"/content/drive/MyDrive/ai-safety-papers/papers.sql\"\n",
    "    print(\"Loading PostgreSQL backup...\")\n",
    "    !psql -U postgres -d postgres -f \"{backup_path}\" # pyright: ignore\n",
    "\n",
    "# First load the database\n",
    "load_database()\n",
    "\n",
    "# Then connect to study\n",
    "study = optuna.load_study(\n",
    "    study_name=\"ai-papers-clustering\",\n",
    "    storage=get_optuna_storage()\n",
    ")\n",
    "best_trial = study.best_trial\n",
    "\n",
    "# Save trial metadata\n",
    "trial_info = {\n",
    "    \"trial_id\": best_trial.number,\n",
    "    \"value\": best_trial.value,\n",
    "    \"params\": best_trial.params,\n",
    "    \"metrics\": {k: float(v) if isinstance(v, np.generic) else v \n",
    "               for k, v in best_trial.user_attrs.items()}\n",
    "}\n",
    "\n",
    "with open(\"/content/drive/MyDrive/ai-safety-papers/best_trial.json\", \"w\") as f:\n",
    "    json.dump(trial_info, f, indent=2)\n",
    "\n",
    "print(f\"Best trial: {best_trial.number} with score {best_trial.value:.3f}\")"
   ]
  },
  {
   "cell_type": "markdown",
   "id": "5",
   "metadata": {},
   "source": [
    "## 3. Create Filtered Database"
   ]
  },
  {
   "cell_type": "code",
   "execution_count": null,
   "id": "6",
   "metadata": {},
   "outputs": [],
   "source": [
    "# Database configuration\n",
    "SOURCE_DB = \"postgres\"\n",
    "DEST_DB = \"papers\"\n",
    "BEST_TRIAL = best_trial.number\n",
    "\n",
    "def execute_psql(command):\n",
    "    \"\"\"Execute PostgreSQL command using psql auth\"\"\"\n",
    "    !psql -U postgres -d postgres -c \"{command}\" # pyright: ignore\n",
    "\n",
    "# Create new database\n",
    "execute_psql(f\"DROP DATABASE IF EXISTS {DEST_DB}\")\n",
    "execute_psql(f\"CREATE DATABASE {DEST_DB}\")"
   ]
  },
  {
   "cell_type": "markdown",
   "id": "7",
   "metadata": {},
   "source": [
    "### 3.1 Export Schema"
   ]
  },
  {
   "cell_type": "code",
   "execution_count": null,
   "id": "8",
   "metadata": {},
   "outputs": [],
   "source": [
    "# Export schema only\n",
    "!pg_dump -U postgres -d {SOURCE_DB} --schema-only -f /tmp/schema.sql # pyright: ignore\n",
    "!psql -U postgres -d {DEST_DB} -f /tmp/schema.sql # pyright: ignore"
   ]
  },
  {
   "cell_type": "markdown",
   "id": "9",
   "metadata": {},
   "source": [
    "### 3.2 Export Filtered Data"
   ]
  },
  {
   "cell_type": "code",
   "execution_count": null,
   "id": "10",
   "metadata": {
    "lines_to_next_cell": 1
   },
   "outputs": [],
   "source": [
    "# Export papers with embeddings (which implies cs.AI from embeddings.py)\n",
    "!psql -U postgres -d {SOURCE_DB} -c \"\\copy (SELECT * FROM papers WHERE embedding IS NOT NULL AND withdrawn = FALSE) TO '/tmp/papers.sql'\" # pyright: ignore\n",
    "!psql -U postgres -d {DEST_DB} -c \"\\copy papers FROM '/tmp/papers.sql'\" # pyright: ignore\n",
    "\n",
    "# Export related authors (now based on embedding presence)\n",
    "!psql -U postgres -d {SOURCE_DB} -c \"\\copy (SELECT * FROM authors WHERE id IN (SELECT author_id FROM paper_authors WHERE paper_id IN (SELECT id FROM papers WHERE embedding IS NOT NULL AND withdrawn = FALSE))) TO '/tmp/authors.sql'\" # pyright: ignore\n",
    "!psql -U postgres -d {DEST_DB} -c \"\\copy authors FROM '/tmp/authors.sql'\" # pyright: ignore\n",
    "\n",
    "# Export paper-author relationships\n",
    "!psql -U postgres -d {SOURCE_DB} -c \"\\copy (SELECT * FROM paper_authors WHERE paper_id IN (SELECT id FROM papers WHERE embedding IS NOT NULL AND withdrawn = FALSE)) TO '/tmp/paper_authors.sql'\" # pyright: ignore\n",
    "!psql -U postgres -d {DEST_DB} -c \"\\copy paper_authors FROM '/tmp/paper_authors.sql'\" # pyright: ignore\n",
    "\n",
    "# Export paper versions\n",
    "!psql -U postgres -d {SOURCE_DB} -c \"\\copy (SELECT * FROM paper_versions WHERE paper_id IN (SELECT id FROM papers WHERE embedding IS NOT NULL AND withdrawn = FALSE)) TO '/tmp/versions.sql'\" # pyright: ignore\n",
    "!psql -U postgres -d {DEST_DB} -c \"\\copy paper_versions FROM '/tmp/versions.sql'\" # pyright: ignore\n",
    "\n",
    "# Export best trial artifacts\n",
    "!psql -U postgres -d {SOURCE_DB} -c \"\\copy (SELECT * FROM artifacts WHERE trial_id = {BEST_TRIAL}) TO '/tmp/artifacts.sql'\" # pyright: ignore\n",
    "!psql -U postgres -d {DEST_DB} -c \"\\copy artifacts FROM '/tmp/artifacts.sql'\" # pyright: ignore\n",
    "\n",
    "# Export cluster tree for best trial\n",
    "!psql -U postgres -d {SOURCE_DB} -c \"\\copy (SELECT * FROM cluster_trees WHERE trial_id = {BEST_TRIAL}) TO '/tmp/cluster_trees.sql'\" # pyright: ignore\n",
    "!psql -U postgres -d {DEST_DB} -c \"\\copy cluster_trees FROM '/tmp/cluster_trees.sql'\" # pyright: ignore"
   ]
  },
  {
   "cell_type": "markdown",
   "id": "11",
   "metadata": {},
   "source": [
    "## 4. Verify Database"
   ]
  },
  {
   "cell_type": "code",
   "execution_count": null,
   "id": "12",
   "metadata": {},
   "outputs": [],
   "source": [
    "def verify_database():\n",
    "    conn = psycopg2.connect(\n",
    "        host='',\n",
    "        database=DEST_DB,\n",
    "        user=\"postgres\"\n",
    "    )\n",
    "    \n",
    "    with conn.cursor() as c:\n",
    "        # Core paper metrics\n",
    "        c.execute(\"SELECT COUNT(*) FROM papers\")\n",
    "        total_papers = c.fetchone()[0]\n",
    "        print(f\"Total papers: {total_papers}\")\n",
    "        \n",
    "        # Embedding coverage (from embeddings.py)\n",
    "        c.execute(\"SELECT COUNT(*) FROM papers WHERE embedding IS NOT NULL\")\n",
    "        embedded_papers = c.fetchone()[0]\n",
    "        print(f\"\\nEmbedding Coverage: {embedded_papers}/{total_papers} ({embedded_papers/total_papers:.1%})\")\n",
    "        \n",
    "        # Citation tracking (from citations.py)\n",
    "        c.execute(\"SELECT COUNT(*) FROM papers WHERE citation_count IS NOT NULL\")\n",
    "        cited_papers = c.fetchone()[0]\n",
    "        print(f\"Citation Data: {cited_papers}/{total_papers} ({cited_papers/total_papers:.1%})\")\n",
    "\n",
    "        # Version history (from harvesting.py)\n",
    "        c.execute(\"SELECT COUNT(*) FROM paper_versions\")\n",
    "        versions = c.fetchone()[0]\n",
    "        print(f\"\\nVersion History: {versions} total versions\")\n",
    "        c.execute(\"\"\"\n",
    "            SELECT AVG(version_count) \n",
    "            FROM (\n",
    "                SELECT paper_id, COUNT(*) as version_count \n",
    "                FROM paper_versions \n",
    "                GROUP BY paper_id\n",
    "            ) AS versions_subquery\n",
    "        \"\"\")\n",
    "        avg_versions = c.fetchone()[0]\n",
    "        print(f\"Average versions per paper: {avg_versions:.1f}\")\n",
    "\n",
    "        # Clustering artifacts (from clustering.py)\n",
    "        c.execute(f\"SELECT COUNT(*) FROM artifacts WHERE trial_id = {BEST_TRIAL}\")\n",
    "        artifacts = c.fetchone()[0]\n",
    "        print(f\"\\nClustering Artifacts: {artifacts} (Trial {BEST_TRIAL})\")\n",
    "        \n",
    "        # Cluster hierarchy (from clustering.py)\n",
    "        c.execute(f\"SELECT COUNT(*) FROM cluster_trees WHERE trial_id = {BEST_TRIAL}\")\n",
    "        cluster_edges = c.fetchone()[0]\n",
    "        print(f\"Cluster Hierarchy Edges: {cluster_edges}\")\n",
    "\n",
    "        # Author relationships (from harvesting.py)\n",
    "        c.execute(\"\"\"\n",
    "            SELECT COUNT(DISTINCT a.id) \n",
    "            FROM authors a\n",
    "            JOIN paper_authors pa ON a.id = pa.author_id\n",
    "        \"\"\")\n",
    "        active_authors = c.fetchone()[0]\n",
    "        print(f\"\\nActive Authors: {active_authors}\")\n",
    "        \n",
    "        c.execute(\"\"\"\n",
    "            SELECT COUNT(DISTINCT paper_id) \n",
    "            FROM paper_authors \n",
    "            WHERE paper_id IN (SELECT id FROM papers)\n",
    "        \"\"\")\n",
    "        papers_with_authors = c.fetchone()[0]\n",
    "        print(f\"Papers with author data: {papers_with_authors}/{total_papers} ({papers_with_authors/total_papers:.1%})\")\n",
    "\n",
    "        # Cluster metrics (from clustering optimization)\n",
    "        c.execute(f\"\"\"\n",
    "            SELECT COUNT(DISTINCT cluster_id), AVG(cluster_prob), STDDEV(cluster_prob)\n",
    "            FROM artifacts \n",
    "            WHERE trial_id = {BEST_TRIAL} \n",
    "              AND cluster_id IS NOT NULL\n",
    "        \"\"\")\n",
    "        clusters, avg_prob, std_prob = c.fetchone()\n",
    "        print(f\"\\nCluster Metrics (Trial {BEST_TRIAL}):\")\n",
    "        print(f\"- Total clusters: {clusters}\")\n",
    "        print(f\"- Average cluster probability: {avg_prob:.2f} ± {std_prob:.2f}\")\n",
    "\n",
    "        # Citation distribution analysis\n",
    "        c.execute(\"\"\"\n",
    "            SELECT \n",
    "                COUNT(*) FILTER (WHERE citation_count > 0) AS non_zero,\n",
    "                COUNT(*) FILTER (WHERE citation_count = 0) AS zero,\n",
    "                COUNT(*) FILTER (WHERE citation_count IS NULL) AS nulls\n",
    "            FROM papers\n",
    "        \"\"\")\n",
    "        non_zero, zero, nulls = c.fetchone()\n",
    "\n",
    "        print(f\"\\nCitation Distribution:\")\n",
    "        print(f\"- Papers with citations: {non_zero} ({non_zero/total_papers:.1%})\")\n",
    "        print(f\"- Zero-citation papers: {zero} ({zero/total_papers:.1%})\")\n",
    "        print(f\"- Unknown citation status: {nulls} ({nulls/total_papers:.1%})\")\n",
    "\n",
    "verify_database()"
   ]
  },
  {
   "cell_type": "markdown",
   "id": "13",
   "metadata": {},
   "source": [
    "## 5. Create Final Backup"
   ]
  },
  {
   "cell_type": "code",
   "execution_count": null,
   "id": "14",
   "metadata": {},
   "outputs": [],
   "source": [
    "!pg_dump -U postgres -d {DEST_DB} -F c -f /content/drive/MyDrive/ai-safety-papers/papers.sql # pyright: ignore\n",
    "print(\"Filtered database backup created successfully\") "
   ]
  }
 ],
 "metadata": {
  "jupytext": {
   "formats": "ipynb,py:percent",
   "main_language": "python"
  }
 },
 "nbformat": 4,
 "nbformat_minor": 5
}
